{
  "nbformat": 4,
  "nbformat_minor": 0,
  "metadata": {
    "colab": {
      "provenance": []
    },
    "kernelspec": {
      "name": "python3",
      "display_name": "Python 3"
    },
    "language_info": {
      "name": "python"
    }
  },
  "cells": [
    {
      "cell_type": "code",
      "execution_count": 1,
      "metadata": {
        "id": "JMfSy-6LUjVb"
      },
      "outputs": [],
      "source": [
        "import pandas as pd\n",
        "from sklearn.model_selection import train_test_split, cross_val_score\n",
        "from sklearn.preprocessing import LabelEncoder\n",
        "from sklearn.multioutput import MultiOutputRegressor\n",
        "from sklearn.ensemble import RandomForestRegressor, GradientBoostingRegressor\n",
        "from sklearn.tree import DecisionTreeRegressor\n",
        "from sklearn.linear_model import LinearRegression\n",
        "from sklearn.svm import SVR\n",
        "import joblib\n",
        "import numpy as np\n"
      ]
    },
    {
      "cell_type": "code",
      "source": [
        "# Load the dataset\n",
        "file_path = '/content/Financial budget system datasets.xlsx'\n",
        "data = pd.read_excel(file_path)\n",
        "\n",
        "# Rename columns for easier access\n",
        "data.columns = ['Age Range', 'Household', 'Employment Status', 'Total Monthly Income',\n",
        "                'Monthly Food', 'Monthly Housing', 'Monthly Transportation',\n",
        "                'Monthly Utilities', 'Monthly Insurance', 'Monthly Savings',\n",
        "                'Monthly Other Expenses']\n",
        "\n",
        "# Encode categorical variables\n",
        "label_encoder = LabelEncoder()\n",
        "data['Age Range'] = label_encoder.fit_transform(data['Age Range'])\n",
        "data['Employment Status'] = label_encoder.fit_transform(data['Employment Status'])\n",
        "\n",
        "# Save the encoders for use in the Flask app\n",
        "joblib.dump(label_encoder, 'age_encoder.pkl')\n",
        "joblib.dump(label_encoder, 'employment_encoder.pkl')\n",
        "\n",
        "# Define the features and target variables\n",
        "features = data[['Age Range', 'Household', 'Employment Status', 'Total Monthly Income']]\n",
        "target_columns = ['Monthly Food', 'Monthly Housing', 'Monthly Transportation',\n",
        "                  'Monthly Utilities', 'Monthly Insurance', 'Monthly Savings', 'Monthly Other Expenses']\n",
        "target = data[target_columns]\n",
        "\n",
        "# Split the data into training and testing sets\n",
        "X_train, X_test, y_train, y_test = train_test_split(features, target, test_size=0.2, random_state=42)"
      ],
      "metadata": {
        "id": "A-AUfvU-UrXZ"
      },
      "execution_count": 2,
      "outputs": []
    },
    {
      "cell_type": "code",
      "source": [
        "rf_model = MultiOutputRegressor(RandomForestRegressor(random_state=42))\n",
        "rf_scores = cross_val_score(rf_model, X_train, y_train, cv=5, scoring='neg_mean_squared_error')\n",
        "print(\"Random Forest Regressor MSE:\", -np.mean(rf_scores))"
      ],
      "metadata": {
        "colab": {
          "base_uri": "https://localhost:8080/"
        },
        "id": "YFOjEQnzU0kE",
        "outputId": "99b822e3-5e4b-4655-d422-48c7bfdc8421"
      },
      "execution_count": 3,
      "outputs": [
        {
          "output_type": "stream",
          "name": "stdout",
          "text": [
            "Random Forest Regressor MSE: 21702475.758928575\n"
          ]
        }
      ]
    },
    {
      "cell_type": "code",
      "source": [
        "gb_model = MultiOutputRegressor(GradientBoostingRegressor(random_state=42))\n",
        "gb_scores = cross_val_score(gb_model, X_train, y_train, cv=5, scoring='neg_mean_squared_error')\n",
        "print(\"Gradient Boosting Regressor MSE:\", -np.mean(gb_scores))\n"
      ],
      "metadata": {
        "colab": {
          "base_uri": "https://localhost:8080/"
        },
        "id": "JsCGHmnGU2fr",
        "outputId": "116cd94e-88b3-4ce5-bf1f-dc5440aabddf"
      },
      "execution_count": 4,
      "outputs": [
        {
          "output_type": "stream",
          "name": "stdout",
          "text": [
            "Gradient Boosting Regressor MSE: 21060021.75203604\n"
          ]
        }
      ]
    },
    {
      "cell_type": "code",
      "source": [
        "dt_model = MultiOutputRegressor(DecisionTreeRegressor(random_state=42))\n",
        "dt_scores = cross_val_score(dt_model, X_train, y_train, cv=5, scoring='neg_mean_squared_error')\n",
        "print(\"Decision Tree Regressor MSE:\", -np.mean(dt_scores))"
      ],
      "metadata": {
        "colab": {
          "base_uri": "https://localhost:8080/"
        },
        "id": "9vKZqocEU6uP",
        "outputId": "68a1db01-fb8b-424d-eedc-c18babe491ef"
      },
      "execution_count": 5,
      "outputs": [
        {
          "output_type": "stream",
          "name": "stdout",
          "text": [
            "Decision Tree Regressor MSE: 22822619.04761905\n"
          ]
        }
      ]
    },
    {
      "cell_type": "code",
      "source": [
        "lr_model = MultiOutputRegressor(LinearRegression())\n",
        "lr_scores = cross_val_score(lr_model, X_train, y_train, cv=5, scoring='neg_mean_squared_error')\n",
        "print(\"Linear Regression MSE:\", -np.mean(lr_scores))"
      ],
      "metadata": {
        "colab": {
          "base_uri": "https://localhost:8080/"
        },
        "id": "x0Bm-c39VAt4",
        "outputId": "01da6efe-9c70-480e-f857-a1231e4934c1"
      },
      "execution_count": 6,
      "outputs": [
        {
          "output_type": "stream",
          "name": "stdout",
          "text": [
            "Linear Regression MSE: 783504541.5899264\n"
          ]
        }
      ]
    },
    {
      "cell_type": "code",
      "source": [
        "svr_model = MultiOutputRegressor(SVR())\n",
        "svr_scores = cross_val_score(svr_model, X_train, y_train, cv=5, scoring='neg_mean_squared_error')\n",
        "print(\"Support Vector Regressor MSE:\", -np.mean(svr_scores))"
      ],
      "metadata": {
        "colab": {
          "base_uri": "https://localhost:8080/"
        },
        "id": "kvzOJzXLVFIA",
        "outputId": "91fbd971-48d2-442d-d822-ba3eeb7feed4"
      },
      "execution_count": 7,
      "outputs": [
        {
          "output_type": "stream",
          "name": "stdout",
          "text": [
            "Support Vector Regressor MSE: 108741749.55074616\n"
          ]
        }
      ]
    },
    {
      "cell_type": "code",
      "source": [
        "models_mse = {\n",
        "    \"Random Forest\": -np.mean(rf_scores),\n",
        "    \"Gradient Boosting\": -np.mean(gb_scores),\n",
        "    \"Decision Tree\": -np.mean(dt_scores),\n",
        "    \"Linear Regression\": -np.mean(lr_scores),\n",
        "    \"Support Vector Regressor\": -np.mean(svr_scores)\n",
        "}\n",
        "\n",
        "best_model_name = min(models_mse, key=models_mse.get)\n",
        "best_model_mse = models_mse[best_model_name]\n",
        "\n",
        "print(f\"Best Model: {best_model_name} with MSE of {best_model_mse}\")"
      ],
      "metadata": {
        "colab": {
          "base_uri": "https://localhost:8080/"
        },
        "id": "Omh2XMZsVNUC",
        "outputId": "5be36f78-d0e7-422c-a5d9-eb60f2075424"
      },
      "execution_count": 8,
      "outputs": [
        {
          "output_type": "stream",
          "name": "stdout",
          "text": [
            "Best Model: Gradient Boosting with MSE of 21060021.75203604\n"
          ]
        }
      ]
    },
    {
      "cell_type": "code",
      "source": [
        "if best_model_name == \"Random Forest\":\n",
        "    best_model = rf_model\n",
        "elif best_model_name == \"Gradient Boosting\":\n",
        "    best_model = gb_model\n",
        "elif best_model_name == \"Decision Tree\":\n",
        "    best_model = dt_model\n",
        "elif best_model_name == \"Linear Regression\":\n",
        "    best_model = lr_model\n",
        "elif best_model_name == \"Support Vector Regressor\":\n",
        "    best_model = svr_model\n",
        "\n",
        "# Train the best model on the entire training set\n",
        "best_model.fit(X_train, y_train)\n",
        "\n",
        "# Save the trained best model\n",
        "joblib.dump(best_model, 'best_budget_recommender_model.pkl')"
      ],
      "metadata": {
        "colab": {
          "base_uri": "https://localhost:8080/"
        },
        "id": "2fTs8IGNVaGM",
        "outputId": "bdb57fec-8989-4626-ec0e-60ffcc52f5b6"
      },
      "execution_count": 9,
      "outputs": [
        {
          "output_type": "execute_result",
          "data": {
            "text/plain": [
              "['best_budget_recommender_model.pkl']"
            ]
          },
          "metadata": {},
          "execution_count": 9
        }
      ]
    }
  ]
}